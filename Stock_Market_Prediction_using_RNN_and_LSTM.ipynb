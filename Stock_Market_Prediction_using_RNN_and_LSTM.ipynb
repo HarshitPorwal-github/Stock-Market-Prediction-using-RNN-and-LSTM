{
  "nbformat": 4,
  "nbformat_minor": 0,
  "metadata": {
    "colab": {
      "provenance": []
    },
    "kernelspec": {
      "name": "python3",
      "display_name": "Python 3"
    },
    "language_info": {
      "name": "python"
    }
  },
  "cells": [
    {
      "cell_type": "code",
      "execution_count": null,
      "metadata": {
        "id": "w338u_o4kSb2"
      },
      "outputs": [],
      "source": [
        "import pandas as pd\n",
        "import numpy as np\n",
        "import matplotlib.pyplot as plt"
      ]
    },
    {
      "cell_type": "code",
      "source": [
        "df = pd.read_csv(\"/content/Quote-Equity-BHARTIARTL-EQ-19-06-2022-to-19-06-2023.csv\", parse_dates = True, index_col = 'Date ')\n",
        "df"
      ],
      "metadata": {
        "id": "KdCfcd1NkZUb"
      },
      "execution_count": null,
      "outputs": []
    },
    {
      "cell_type": "code",
      "source": [
        "df.drop(columns =\"series \", inplace = True)"
      ],
      "metadata": {
        "id": "Mzn_vAimn1YS"
      },
      "execution_count": null,
      "outputs": []
    },
    {
      "cell_type": "code",
      "source": [
        "df.info()"
      ],
      "metadata": {
        "id": "oayiEFfhoI-H"
      },
      "execution_count": null,
      "outputs": []
    },
    {
      "cell_type": "code",
      "source": [
        "df['close '].plot()"
      ],
      "metadata": {
        "id": "vgm9MzXarO6o"
      },
      "execution_count": null,
      "outputs": []
    },
    {
      "cell_type": "code",
      "source": [
        "airtel_close = df['close ']\n",
        "airtel_close.reset_index(drop = True, inplace = True)"
      ],
      "metadata": {
        "id": "B102_5BUsGPG"
      },
      "execution_count": null,
      "outputs": []
    },
    {
      "cell_type": "code",
      "source": [
        "train = airtel_close.iloc[:238]\n",
        "test = airtel_close.iloc[238:]\n",
        "\n",
        "test = test.reset_index(drop=True)\n",
        "test = test.to_frame()"
      ],
      "metadata": {
        "id": "2GaxFUL5shLV"
      },
      "execution_count": null,
      "outputs": []
    },
    {
      "cell_type": "code",
      "source": [
        "from sklearn.preprocessing import MinMaxScaler\n",
        "train = np.array(train).reshape(-1, 1)\n",
        "test = np.array(test).reshape(-1, 1)\n",
        "\n",
        "scaler = MinMaxScaler(feature_range=(0,1))\n",
        "scaler.fit(train)\n",
        "\n",
        "scaled_train = scaler.transform(train)\n",
        "scaled_test = scaler.transform(test)\n",
        "\n",
        "print(scaled_test)"
      ],
      "metadata": {
        "id": "HyOBa0QBtOxe"
      },
      "execution_count": null,
      "outputs": []
    },
    {
      "cell_type": "code",
      "source": [
        "from tensorflow.keras.preprocessing.sequence import TimeseriesGenerator"
      ],
      "metadata": {
        "id": "-jdfmD9Nt1Na"
      },
      "execution_count": null,
      "outputs": []
    },
    {
      "cell_type": "code",
      "source": [
        "test.shape"
      ],
      "metadata": {
        "id": "8yPWh8g0v2bO"
      },
      "execution_count": null,
      "outputs": []
    },
    {
      "cell_type": "code",
      "source": [
        "length = 10\n",
        "batch_size = 4\n",
        "\n",
        "generator = TimeseriesGenerator(scaled_train, scaled_train, length = length, batch_size = batch_size)"
      ],
      "metadata": {
        "id": "ZcS53e5Wwrf2"
      },
      "execution_count": null,
      "outputs": []
    },
    {
      "cell_type": "code",
      "source": [
        "from tensorflow.keras.models import Sequential\n",
        "from tensorflow.keras.layers import Dense, SimpleRNN, LSTM, Dropout"
      ],
      "metadata": {
        "id": "k2hW8CjnxNVR"
      },
      "execution_count": null,
      "outputs": []
    },
    {
      "cell_type": "code",
      "source": [
        "n_features = 1\n",
        "model = Sequential()\n",
        "model.add(SimpleRNN(30, input_shape = (length, n_features)))\n",
        "model.add(Dropout(rate = 0.2))\n",
        "model.add(Dense(units = 1))\n",
        "model.compile(optimizer = 'adam', loss ='mse')"
      ],
      "metadata": {
        "id": "vnSIvMEwzB-Z"
      },
      "execution_count": null,
      "outputs": []
    },
    {
      "cell_type": "code",
      "source": [
        "model.summary()"
      ],
      "metadata": {
        "id": "pb2wcYjjz7IC"
      },
      "execution_count": null,
      "outputs": []
    },
    {
      "cell_type": "code",
      "source": [
        "model.fit_generator(generator, epochs = 20, shuffle = False)"
      ],
      "metadata": {
        "id": "S-t-zEwU0DiA"
      },
      "execution_count": null,
      "outputs": []
    },
    {
      "cell_type": "code",
      "source": [
        "losses = pd.DataFrame(model.history.history)\n",
        "losses.plot()"
      ],
      "metadata": {
        "id": "MlDHBft_0wby"
      },
      "execution_count": null,
      "outputs": []
    },
    {
      "cell_type": "code",
      "source": [
        "first_eval_batch = scaled_train[-length:]\n",
        "first_eval_batch=first_eval_batch.reshape((1, length, 1))\n",
        "first_eval_batch"
      ],
      "metadata": {
        "id": "nE_YtvyD1pEU"
      },
      "execution_count": null,
      "outputs": []
    },
    {
      "cell_type": "code",
      "source": [
        "model.predict(first_eval_batch)"
      ],
      "metadata": {
        "id": "h858kTrh2Ggn"
      },
      "execution_count": null,
      "outputs": []
    },
    {
      "cell_type": "code",
      "source": [
        "scaled_test[0]"
      ],
      "metadata": {
        "id": "58PRng9Z4yT5"
      },
      "execution_count": null,
      "outputs": []
    },
    {
      "cell_type": "code",
      "source": [
        "test_predictions =[]\n",
        "first_eval_batch = scaled_train[-length:]\n",
        "curr_batch = first_eval_batch.reshape((1, length, n_features))\n",
        "\n",
        "for i in range(len(test)):\n",
        "  current_pred = model.predict(curr_batch)[0]\n",
        "  test_predictions.append(current_pred)\n",
        "  curr_batch = np.append(curr_batch[:,1:,:], [[current_pred]], axis = 1)"
      ],
      "metadata": {
        "colab": {
          "base_uri": "https://localhost:8080/"
        },
        "id": "U9B97Qe15D6z",
        "outputId": "c8de8845-a365-4266-c937-228aeea1b686"
      },
      "execution_count": null,
      "outputs": [
        {
          "output_type": "stream",
          "name": "stdout",
          "text": [
            "1/1 [==============================] - 0s 24ms/step\n",
            "1/1 [==============================] - 0s 24ms/step\n",
            "1/1 [==============================] - 0s 25ms/step\n",
            "1/1 [==============================] - 0s 23ms/step\n",
            "1/1 [==============================] - 0s 25ms/step\n",
            "1/1 [==============================] - 0s 27ms/step\n",
            "1/1 [==============================] - 0s 24ms/step\n",
            "1/1 [==============================] - 0s 24ms/step\n",
            "1/1 [==============================] - 0s 25ms/step\n",
            "1/1 [==============================] - 0s 23ms/step\n"
          ]
        }
      ]
    },
    {
      "cell_type": "code",
      "source": [
        "test_predictions"
      ],
      "metadata": {
        "id": "cgjzn2UY6_50"
      },
      "execution_count": null,
      "outputs": []
    },
    {
      "cell_type": "code",
      "source": [
        "true_prediction = scaler.inverse_transform(test_predictions)\n",
        "true_prediction"
      ],
      "metadata": {
        "id": "7LdHSvcU8PuA"
      },
      "execution_count": null,
      "outputs": []
    },
    {
      "cell_type": "code",
      "source": [
        "test = test.reset_index(drop=True)\n",
        "\n",
        "#I have to run the code once then again run just cell 7 again and then it runs fine. WHYYYYY???\n",
        "\n",
        "\n",
        "test['predictions'] = true_prediction\n",
        "test"
      ],
      "metadata": {
        "id": "sOVa-q4i9e5Z"
      },
      "execution_count": null,
      "outputs": []
    },
    {
      "cell_type": "code",
      "source": [
        "test.plot(figsize = (12, 8))"
      ],
      "metadata": {
        "id": "LpFYtjAg_S_1"
      },
      "execution_count": null,
      "outputs": []
    },
    {
      "cell_type": "markdown",
      "source": [
        "Creating for full dataset for predicting next 16 days\n"
      ],
      "metadata": {
        "id": "Orsjf_EuEM4T"
      }
    },
    {
      "cell_type": "code",
      "source": [
        "full_scaler = MinMaxScaler()\n",
        "airtel_close = np.array(airtel_close).reshape(-1, 1)\n",
        "scaled_full_data = full_scaler.fit_transform(airtel_close)\n",
        "generator = TimeseriesGenerator(scaled_full_data, scaled_full_data, length = length, batch_size = 4)\n"
      ],
      "metadata": {
        "id": "cXI0nDtREW9b"
      },
      "execution_count": null,
      "outputs": []
    },
    {
      "cell_type": "code",
      "source": [
        "#We use the same ML model for prediction"
      ],
      "metadata": {
        "id": "vN4evJ0LE-xn"
      },
      "execution_count": null,
      "outputs": []
    },
    {
      "cell_type": "code",
      "source": [
        "model.fit_generator(generator, epochs = 20, shuffle = False)"
      ],
      "metadata": {
        "id": "1zY9EkZ2FQm6"
      },
      "execution_count": null,
      "outputs": []
    },
    {
      "cell_type": "code",
      "source": [
        "full_losses = pd.DataFrame(model.history.history)\n",
        "full_losses.plot()\n",
        "\n",
        "#check for this weird behaviour"
      ],
      "metadata": {
        "id": "n9MTh0LrGEZJ"
      },
      "execution_count": null,
      "outputs": []
    },
    {
      "cell_type": "code",
      "source": [
        "forecast =[]\n",
        "first_eval_batch = scaled_train[-length:]\n",
        "curr_batch = irst_eval_batch.reshape((1, length, n_features))\n",
        "\n",
        "for i in range(len(test)):\n",
        "  current_pred = model.predict(curr_batch)[0]\n",
        "  forecast.append(current_pred)\n",
        "  curr_batch = np.append(curr_batch[:,1:,:], [[current_pred]], axis = 1)"
      ],
      "metadata": {
        "id": "xJtpv88NGL9f"
      },
      "execution_count": null,
      "outputs": []
    },
    {
      "cell_type": "code",
      "source": [
        "forecast  = scaler.inverse_transform(forecast)"
      ],
      "metadata": {
        "id": "v8_FNuO4G4Hy"
      },
      "execution_count": null,
      "outputs": []
    },
    {
      "cell_type": "code",
      "source": [
        "forecast"
      ],
      "metadata": {
        "id": "k8qWaoYoG99l"
      },
      "execution_count": null,
      "outputs": []
    },
    {
      "cell_type": "code",
      "source": [
        "forecast.flatten()"
      ],
      "metadata": {
        "id": "9NP2SznpHAdK"
      },
      "execution_count": null,
      "outputs": []
    },
    {
      "cell_type": "code",
      "source": [
        "df_array  = np.array(airtel_close)"
      ],
      "metadata": {
        "id": "RuZLuVbyHJeD"
      },
      "execution_count": null,
      "outputs": []
    },
    {
      "cell_type": "code",
      "source": [
        "full_data = pd.DataFrame(np.concatenate((df_array.flatten(), forecast.flatten())))"
      ],
      "metadata": {
        "id": "V7txmDipHTP-"
      },
      "execution_count": null,
      "outputs": []
    },
    {
      "cell_type": "code",
      "source": [
        "full_data.plot()"
      ],
      "metadata": {
        "id": "lPhLxwx4HpXm"
      },
      "execution_count": null,
      "outputs": []
    },
    {
      "cell_type": "code",
      "source": [],
      "metadata": {
        "id": "P4uLTSBwHsR2"
      },
      "execution_count": null,
      "outputs": []
    },
    {
      "cell_type": "markdown",
      "source": [
        "# New Section\n",
        "\n",
        "LSTM Model\n"
      ],
      "metadata": {
        "id": "RDYmn1EAH2BF"
      }
    },
    {
      "cell_type": "code",
      "source": [
        "from tensorflow.keras.callbacks import EarlyStopping\n",
        "early_stop = EarlyStopping(monitor = 'val_loss', patience = 2)\n",
        "\n",
        "#to predict the num of epochs"
      ],
      "metadata": {
        "id": "ckfBHm9uH6XC"
      },
      "execution_count": null,
      "outputs": []
    },
    {
      "cell_type": "code",
      "source": [
        "# for LSTM, length should be 1 less\n",
        "length = 9\n",
        "generator = TimeseriesGenerator(scaled_train, scaled_train, length = length, batch_size = 32)\n",
        "val_generator = generator = TimeseriesGenerator(scaled_test, scaled_test, length = length, batch_size = 32)"
      ],
      "metadata": {
        "id": "P9SfiRwUHD8k"
      },
      "execution_count": null,
      "outputs": []
    },
    {
      "cell_type": "code",
      "source": [
        "model = Sequential()\n",
        "model.add(LSTM(30, input_shape = (length, n_features)))\n",
        "model.add(Dropout(rate = 0.2))\n",
        "model.add(Dense(units = 1))\n",
        "model.compile(optimizer = 'adam', loss ='mse')"
      ],
      "metadata": {
        "id": "fRmBxgLJID4s"
      },
      "execution_count": null,
      "outputs": []
    },
    {
      "cell_type": "code",
      "source": [
        "model.fit_generator(generator, epochs = 20, validation_data=val_generator, callbacks = [early_stop], shuffle = False)"
      ],
      "metadata": {
        "colab": {
          "base_uri": "https://localhost:8080/"
        },
        "id": "A1HlR-oRINiT",
        "outputId": "c17b85c7-0f14-4dba-a154-b6364f1e1c66"
      },
      "execution_count": null,
      "outputs": [
        {
          "output_type": "stream",
          "name": "stdout",
          "text": [
            "Epoch 1/20\n"
          ]
        },
        {
          "output_type": "stream",
          "name": "stderr",
          "text": [
            "<ipython-input-44-028c0d3ad0f9>:1: UserWarning: `Model.fit_generator` is deprecated and will be removed in a future version. Please use `Model.fit`, which supports generators.\n",
            "  model.fit_generator(generator, epochs = 20, validation_data=val_generator, callbacks = [early_stop], shuffle = False)\n"
          ]
        },
        {
          "output_type": "stream",
          "name": "stdout",
          "text": [
            "1/1 [==============================] - 4s 4s/step - loss: 0.4263 - val_loss: 0.5023\n",
            "Epoch 2/20\n",
            "1/1 [==============================] - 0s 62ms/step - loss: 0.5410 - val_loss: 0.4604\n",
            "Epoch 3/20\n",
            "1/1 [==============================] - 0s 72ms/step - loss: 0.3382 - val_loss: 0.4216\n",
            "Epoch 4/20\n",
            "1/1 [==============================] - 0s 67ms/step - loss: 0.4579 - val_loss: 0.3831\n",
            "Epoch 5/20\n",
            "1/1 [==============================] - 0s 63ms/step - loss: 0.4389 - val_loss: 0.3460\n",
            "Epoch 6/20\n",
            "1/1 [==============================] - 0s 64ms/step - loss: 0.2718 - val_loss: 0.3104\n",
            "Epoch 7/20\n",
            "1/1 [==============================] - 0s 61ms/step - loss: 0.1855 - val_loss: 0.2762\n",
            "Epoch 8/20\n",
            "1/1 [==============================] - 0s 66ms/step - loss: 0.1430 - val_loss: 0.2441\n",
            "Epoch 9/20\n",
            "1/1 [==============================] - 0s 66ms/step - loss: 0.2261 - val_loss: 0.2139\n",
            "Epoch 10/20\n",
            "1/1 [==============================] - 0s 60ms/step - loss: 0.4688 - val_loss: 0.1847\n",
            "Epoch 11/20\n",
            "1/1 [==============================] - 0s 65ms/step - loss: 0.3072 - val_loss: 0.1570\n",
            "Epoch 12/20\n",
            "1/1 [==============================] - 0s 68ms/step - loss: 0.0582 - val_loss: 0.1320\n",
            "Epoch 13/20\n",
            "1/1 [==============================] - 0s 66ms/step - loss: 0.1971 - val_loss: 0.1086\n",
            "Epoch 14/20\n",
            "1/1 [==============================] - 0s 62ms/step - loss: 0.1982 - val_loss: 0.0865\n",
            "Epoch 15/20\n",
            "1/1 [==============================] - 0s 63ms/step - loss: 0.0241 - val_loss: 0.0673\n",
            "Epoch 16/20\n",
            "1/1 [==============================] - 0s 64ms/step - loss: 0.0223 - val_loss: 0.0507\n",
            "Epoch 17/20\n",
            "1/1 [==============================] - 0s 71ms/step - loss: 0.0086 - val_loss: 0.0368\n",
            "Epoch 18/20\n",
            "1/1 [==============================] - 0s 62ms/step - loss: 0.0415 - val_loss: 0.0250\n",
            "Epoch 19/20\n",
            "1/1 [==============================] - 0s 67ms/step - loss: 0.1119 - val_loss: 0.0151\n",
            "Epoch 20/20\n",
            "1/1 [==============================] - 0s 61ms/step - loss: 2.2043e-04 - val_loss: 0.0080\n"
          ]
        },
        {
          "output_type": "execute_result",
          "data": {
            "text/plain": [
              "<keras.callbacks.History at 0x7f1e7756f850>"
            ]
          },
          "metadata": {},
          "execution_count": 44
        }
      ]
    },
    {
      "cell_type": "code",
      "source": [
        "lstm_losses = pd.DataFrame(model.history.history)\n",
        "lstm_losses.plot()"
      ],
      "metadata": {
        "colab": {
          "base_uri": "https://localhost:8080/",
          "height": 447
        },
        "id": "csG6uZ_0I8jX",
        "outputId": "f254275e-a5da-4bef-8e85-fcb5785417a0"
      },
      "execution_count": null,
      "outputs": [
        {
          "output_type": "execute_result",
          "data": {
            "text/plain": [
              "<Axes: >"
            ]
          },
          "metadata": {},
          "execution_count": 45
        },
        {
          "output_type": "display_data",
          "data": {
            "text/plain": [
              "<Figure size 640x480 with 1 Axes>"
            ],
            "image/png": "[encoded data removed]"
          },
          "metadata": {}
        }
      ]
    },
    {
      "cell_type": "code",
      "source": [
        "lstm_test_predictions =[]\n",
        "first_eval_batch = scaled_train[-length:]\n",
        "curr_batch = first_eval_batch=first_eval_batch.reshape((1, length, n_features))\n",
        "\n",
        "for i in range(len(test)):\n",
        "  current_pred = model.predict(curr_batch)[0]\n",
        "  lstm_test_predictions.append(current_pred)\n",
        "  curr_batch = np.append(curr_batch[:,1:,:], [[current_pred]], axis = 1)"
      ],
      "metadata": {
        "colab": {
          "base_uri": "https://localhost:8080/"
        },
        "id": "4wVonGeHJg4b",
        "outputId": "1509350b-abe2-47a0-bbc6-6eff4fc9ea03"
      },
      "execution_count": null,
      "outputs": [
        {
          "output_type": "stream",
          "name": "stdout",
          "text": [
            "1/1 [==============================] - 1s 798ms/step\n",
            "1/1 [==============================] - 0s 38ms/step\n",
            "1/1 [==============================] - 0s 39ms/step\n",
            "1/1 [==============================] - 0s 48ms/step\n",
            "1/1 [==============================] - 0s 35ms/step\n",
            "1/1 [==============================] - 0s 26ms/step\n",
            "1/1 [==============================] - 0s 25ms/step\n",
            "1/1 [==============================] - 0s 24ms/step\n",
            "1/1 [==============================] - 0s 26ms/step\n",
            "1/1 [==============================] - 0s 25ms/step\n"
          ]
        }
      ]
    },
    {
      "cell_type": "code",
      "source": [
        "lstm_true_prediction = scaler.inverse_transform(lstm_test_predictions)\n",
        "test['LSTM_predictions'] = lstm_true_prediction\n",
        "test.plot(figsize = (12, 8))"
      ],
      "metadata": {
        "colab": {
          "base_uri": "https://localhost:8080/",
          "height": 693
        },
        "id": "m25TL3HIJ6PP",
        "outputId": "9ae2ab0b-830e-4ee9-8d3b-b359f4ab70c5"
      },
      "execution_count": null,
      "outputs": [
        {
          "output_type": "execute_result",
          "data": {
            "text/plain": [
              "<Axes: >"
            ]
          },
          "metadata": {},
          "execution_count": 47
        },
        {
          "output_type": "display_data",
          "data": {
            "text/plain": [
              "<Figure size 1200x800 with 1 Axes>"
            ],
            "image/png": "[encoded data removed]"
          },
          "metadata": {}
        }
      ]
    },
    {
      "cell_type": "code",
      "source": [
        "forecast =[]\n",
        "first_eval_batch = scaled_train[-length:]\n",
        "curr_batch =first_eval_batch.reshape((1, length, n_features))\n",
        "\n",
        "for i in range(len(test)):\n",
        "  current_pred = model.predict(curr_batch)[0]\n",
        "  forecast.append(current_pred)\n",
        "  curr_batch = np.append(curr_batch[:,1:,:], [[current_pred]], axis = 1)\n",
        "\n",
        "forecast  = scaler.inverse_transform(forecast)"
      ],
      "metadata": {
        "colab": {
          "base_uri": "https://localhost:8080/"
        },
        "id": "gF_odq-gKXbI",
        "outputId": "4250b801-98ae-4817-b6b1-3055099bf4a2"
      },
      "execution_count": null,
      "outputs": [
        {
          "output_type": "stream",
          "name": "stdout",
          "text": [
            "1/1 [==============================] - 0s 24ms/step\n",
            "1/1 [==============================] - 0s 25ms/step\n",
            "1/1 [==============================] - 0s 31ms/step\n",
            "1/1 [==============================] - 0s 39ms/step\n",
            "1/1 [==============================] - 0s 60ms/step\n",
            "1/1 [==============================] - 0s 38ms/step\n",
            "1/1 [==============================] - 0s 42ms/step\n",
            "1/1 [==============================] - 0s 36ms/step\n",
            "1/1 [==============================] - 0s 40ms/step\n",
            "1/1 [==============================] - 0s 23ms/step\n"
          ]
        }
      ]
    },
    {
      "cell_type": "code",
      "source": [
        "full_data = pd.DataFrame(np.concatenate((df_array.flatten(), forecast.flatten())))\n",
        "full_data.plot()"
      ],
      "metadata": {
        "colab": {
          "base_uri": "https://localhost:8080/",
          "height": 447
        },
        "id": "ouhB7MyTKyTF",
        "outputId": "873be50a-9b30-433d-9654-3c34b22e1a52"
      },
      "execution_count": null,
      "outputs": [
        {
          "output_type": "execute_result",
          "data": {
            "text/plain": [
              "<Axes: >"
            ]
          },
          "metadata": {},
          "execution_count": 49
        },
        {
          "output_type": "display_data",
          "data": {
            "text/plain": [
              "<Figure size 640x480 with 1 Axes>"
            ],
            "image/png": "[encoded data removed]"
          },
          "metadata": {}
        }
      ]
    },
    {
      "cell_type": "code",
      "source": [],
      "metadata": {
        "id": "FFZ7iH11K2TF"
      },
      "execution_count": null,
      "outputs": []
    },
    {
      "cell_type": "markdown",
      "source": [],
      "metadata": {
        "id": "HGawSnVVTQWc"
      }
    }
  ]
}